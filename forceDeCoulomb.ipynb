{
 "metadata": {
  "name": "",
  "signature": "sha256:d7e646cbfa8511081d3ef9ad57fa278bdd722785ce06910b7bc4db4307a3d976"
 },
 "nbformat": 3,
 "nbformat_minor": 0,
 "worksheets": [
  {
   "cells": [
    {
     "cell_type": "markdown",
     "metadata": {},
     "source": [
      "TD 1, exercice 2\n",
      "\n",
      "Calculons la force \u00e9lectrostatique exerc\u00e9e par 3 charges ponctuelles sur une quatri\u00e8me charnge ponctuelle.\n"
     ]
    },
    {
     "cell_type": "code",
     "collapsed": false,
     "input": [
      "# On d\u00e9clare les librairies que l'on va utiliser\n",
      "import matplotlib.pyplot as plt\n",
      "import math"
     ],
     "language": "python",
     "metadata": {},
     "outputs": [],
     "prompt_number": 1
    },
    {
     "cell_type": "code",
     "collapsed": false,
     "input": [
      "# Valeur de la constante de Coulomb en unit\u00e9s SI\n",
      "k = 8.9875517873681764e9\n",
      "i = float('Inf')\n",
      "#print i"
     ],
     "language": "python",
     "metadata": {},
     "outputs": [],
     "prompt_number": 2
    },
    {
     "cell_type": "code",
     "collapsed": false,
     "input": [
      "# On d\u00e9clare les positions des charges\n",
      "# Pour cela, je prends l'origine de coordonn\u00e9s dans le coin du bas \u00e0 gauche du carr\u00e9,\n",
      "#o\u00f9 j'ai plac\u00e9 la charge subissant la force (Q_4)\n",
      "Q_1 = 3e-9 # 3 nC\n",
      "x_1 = 0.\n",
      "y_1 = 0.05 # Attention ! Unit\u00e9s SI, 5 cm = 0.05 m\n",
      "z_1 = 0.\n",
      "Q_2 = -3e-9\n",
      "x_2 = 0.05\n",
      "y_2 = 0.05\n",
      "z_2 = 0.\n",
      "Q_3 = 3e-9 # 3 nC\n",
      "x_3 = 0.05\n",
      "y_3 = 0.\n",
      "z_3 = 0.\n",
      "Q_4 = 3e-9\n",
      "x_4 = 0.\n",
      "y_4 = 0.\n",
      "z_4 = 0."
     ],
     "language": "python",
     "metadata": {},
     "outputs": [],
     "prompt_number": 3
    },
    {
     "cell_type": "code",
     "collapsed": false,
     "input": [
      "# On d\u00e9finit la fonction qui calcule la force de Coulomb entre deux charges Q et q\n",
      "# La fonction Coulomb retourne un vecteur (trois nombres r\u00e9els)\n",
      "def Coulomb(Q, q, x_Q, y_Q, z_Q, x_q, y_q, z_q):\n",
      "    distance = math.sqrt((x_q-x_Q)**2 +(y_q-y_Q)**2 + (z_q-z_Q)**2)\n",
      "    # \u00e9vitons la division par z\u00e9ro\n",
      "    if distance == 0.:\n",
      "        print \"distance entre les deux charges exactement \u00e9gal \u00e0 0, division par z\u00e9ro\"\n",
      "        return i\n",
      "    u_r = [(x_q-x_Q)/distance, (y_q-y_Q)/distance, (z_q-z_Q)/distance]\n",
      "    #print u_r\n",
      "    #print distance\n",
      "    force = [k*Q*q*x/(distance*distance) for x in u_r]\n",
      "    # Une autre fa\u00e7on de le faire serait d'expliciter la boucle sur les composantes du vecteur :\n",
      "    #force = u_r\n",
      "    #for i in range(3):\n",
      "    #    #print i\n",
      "    #    force[i] *= k*Q*q/(distance*distance)\n",
      "    return force"
     ],
     "language": "python",
     "metadata": {},
     "outputs": [],
     "prompt_number": 4
    },
    {
     "cell_type": "code",
     "collapsed": false,
     "input": [
      "# Calculons deux \u00e0 deux toutes les forces exerc\u00e9es sur Q_4 :\n",
      "F_Q1surQ4 = Coulomb(Q_1, Q_4, x_1, y_1, z_1, x_4, y_4, z_4)\n",
      "print \"F_Q1->Q4 = \", F_Q1surQ4, \"N\"\n",
      "F_Q2surQ4 = Coulomb(Q_2, Q_4, x_2, y_2, z_2, x_4, y_4, z_4)\n",
      "print \"F_Q2->Q4 = \", F_Q2surQ4, \"N\"\n",
      "F_Q3surQ4 = Coulomb(Q_3, Q_4, x_3, y_3, z_3, x_4, y_4, z_4)\n",
      "print \"F_Q3->Q4 = \", F_Q3surQ4, \"N\""
     ],
     "language": "python",
     "metadata": {},
     "outputs": [
      {
       "output_type": "stream",
       "stream": "stdout",
       "text": [
        "F_Q1->Q4 =  [0.0, -3.235518643452543e-05, 0.0] N\n",
        "F_Q2->Q4 =  [1.1439285867203957e-05, 1.1439285867203957e-05, -0.0] N\n",
        "F_Q3->Q4 =  [-3.235518643452543e-05, 0.0, 0.0] N\n"
       ]
      }
     ],
     "prompt_number": 5
    },
    {
     "cell_type": "code",
     "collapsed": false,
     "input": [
      "# La force r\u00e9sultante sur Q_4 sera la somme VECTORIELLE de ces 3 forces\n",
      "# On fait, donc, la somme composante par composante\n",
      "F_totsurQ4 = [x1+x2+x3 for x1, x2, x3 in zip(F_Q1surQ4, F_Q2surQ4, F_Q3surQ4)]\n",
      "# Alternativement, on aurait pu faire une boucle explicite sur les 3 composantes :\n",
      "#F_totsurQ4 = F_Q1surQ4\n",
      "#for i in range(3):\n",
      "#    F_totsurQ4[i] += F_Q2surQ4[i] + F_Q3surQ4[i]\n",
      "print \"F_tot->Q4 =\", F_totsurQ4, \"N\"\n",
      "\n",
      "def norme(vecteur):\n",
      "    return math.sqrt(vecteur[0]**2 + vecteur[1]**2 + vecteur[2]**2)\n",
      "print \"||F_tot->Q4|| =\", norme(F_totsurQ4), \"N\""
     ],
     "language": "python",
     "metadata": {},
     "outputs": [
      {
       "output_type": "stream",
       "stream": "stdout",
       "text": [
        "F_tot->Q4 = [-2.0915900567321473e-05, -2.0915900567321473e-05, 0.0] N\n",
        "||F_tot->Q4|| = 2.95795502516e-05 N\n"
       ]
      }
     ],
     "prompt_number": 6
    },
    {
     "cell_type": "markdown",
     "metadata": {},
     "source": [
      "La force de Python est la facilit\u00e9 pour manipuler des listes (= vecteurs !). En particulier, la biblioth\u00e8que Numpy fournit toutes les fonctions comunes impliquant des vecteurs. Re-\u00e9crivez la fonction Coulomb pour qu'elle travaille avec des listes (Q, q, x_Q, y_Q, z_Q, x_q, y_q, z_q) au lieu de simples nombres r\u00e9els "
     ]
    },
    {
     "cell_type": "code",
     "collapsed": false,
     "input": [
      "import numpy as np"
     ],
     "language": "python",
     "metadata": {},
     "outputs": [],
     "prompt_number": 7
    },
    {
     "cell_type": "code",
     "collapsed": false,
     "input": [
      "# On d\u00e9clare les positions des charges\n",
      "# Cette fois-ci, je mets toutes les charges exer\u00e7ant la force (Q_1, Q_2 et Q_3) dans\n",
      "#une matrice ligne de Numpy\n",
      "Q = np.array([3e-9, -3e-9, 3e-9])\n",
      "x = np.array([0., 0.05, 0.05])\n",
      "y = np.array([0.05, 0.05, 0.])\n",
      "z = np.array([0., 0., 0.])\n",
      "print Q\n",
      "print type(Q)\n",
      "#x_1 = 0.\n",
      "#y_1 = 0.05 # Attention ! Unit\u00e9s SI, 5 cm = 0.05 m\n",
      "#z_1 = 0.\n",
      "#Q_2 = -3e-9\n",
      "#x_2 = 0.05\n",
      "#y_2 = 0.05\n",
      "#z_2 = 0.\n",
      "#Q_3 = 3e-9 # 3 nC\n",
      "#x_3 = 0.05\n",
      "#y_3 = 0.\n",
      "#z_3 = 0."
     ],
     "language": "python",
     "metadata": {},
     "outputs": [
      {
       "output_type": "stream",
       "stream": "stdout",
       "text": [
        "[  3.00000000e-09  -3.00000000e-09   3.00000000e-09]\n",
        "<type 'numpy.ndarray'>\n"
       ]
      }
     ],
     "prompt_number": 8
    },
    {
     "cell_type": "code",
     "collapsed": false,
     "input": [
      "def Coulomb(Q, q, x_Q, y_Q, z_Q, x_q, y_q, z_q):\n",
      "    distance = np.sqrt((x_q-x_Q)**2 +(y_q-y_Q)**2 + (z_q-z_Q)**2)\n",
      "    # \u00e9vitons la division par z\u00e9ro\n",
      "    #..."
     ],
     "language": "python",
     "metadata": {},
     "outputs": [],
     "prompt_number": 9
    },
    {
     "cell_type": "code",
     "collapsed": false,
     "input": [
      "#Enlevez les commentaires suivantes une fois votre fonction Coulomb r\u00e9crite pour utiliser Numpy\n",
      "#F_QisurQ4 = Coulomb(Q, Q_4, x, y, z, x_4, y_4, z_4)\n",
      "#print type(F_QisurQ4)\n",
      "#print F_QisurQ4\n",
      "## Les vecteurs individuels sont les colonnes de cette matrice :\n",
      "#print \"F_Q1->Q4 = \", F_QisurQ4[:,[0]], \"N\"\n",
      "#print \"F_Q2->Q4 = \", F_QisurQ4[:,[1]], \"N\"\n",
      "#print \"F_Q3->Q4 = \", F_QisurQ4[:,[2]], \"N\""
     ],
     "language": "python",
     "metadata": {},
     "outputs": []
    },
    {
     "cell_type": "code",
     "collapsed": false,
     "input": [
      "## Avec Numpy, les op\u00e9rations vectorielles les plus comunes deviennent triviales...\n",
      "#F_totsurQ4 = np.sum(F_QisurQ4,axis=1)\n",
      "##ou\n",
      "#F_tot = F_QisurQ4[:,[0]] + F_QisurQ4[:,[1]] + F_QisurQ4[:,[2]]\n",
      "#print \"F_tot->Q4 =\", F_totsurQ4, \"N\"\n",
      "#print \"F_tot->Q4 =\", F_tot, \"N\"\n",
      "#print \"||F_tot->Q4|| =\", np.linalg.norm(F_totsurQ4), \"N\""
     ],
     "language": "python",
     "metadata": {},
     "outputs": []
    }
   ],
   "metadata": {}
  }
 ]
}